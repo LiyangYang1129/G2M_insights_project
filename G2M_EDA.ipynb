{
 "cells": [
  {
   "cell_type": "code",
   "execution_count": 18,
   "id": "5b63f70b",
   "metadata": {},
   "outputs": [],
   "source": [
    "import pandas as pd\n",
    "import numpy as np\n",
    "import seaborn as sns\n",
    "from matplotlib import pyplot as plt\n",
    "from IPython.core.interactiveshell import InteractiveShell\n",
    "InteractiveShell.ast_node_interactivity = \"all\""
   ]
  },
  {
   "cell_type": "code",
   "execution_count": 2,
   "id": "71381e80",
   "metadata": {},
   "outputs": [],
   "source": [
    "df_cab = pd.read_csv('Cab_Data.csv')\n",
    "df_city = pd.read_csv('City.csv')\n",
    "df_customer = pd.read_csv('Customer_ID.csv')\n",
    "df_transaction = pd.read_csv('Transaction_ID.csv')"
   ]
  },
  {
   "cell_type": "code",
   "execution_count": 19,
   "id": "f5ebc261",
   "metadata": {},
   "outputs": [
    {
     "name": "stdout",
     "output_type": "stream",
     "text": [
      "<class 'pandas.core.frame.DataFrame'>\n",
      "RangeIndex: 359392 entries, 0 to 359391\n",
      "Data columns (total 7 columns):\n",
      " #   Column          Non-Null Count   Dtype  \n",
      "---  ------          --------------   -----  \n",
      " 0   Transaction ID  359392 non-null  int64  \n",
      " 1   Date of Travel  359392 non-null  int64  \n",
      " 2   Company         359392 non-null  object \n",
      " 3   City            359392 non-null  object \n",
      " 4   KM Travelled    359392 non-null  float64\n",
      " 5   Price Charged   359392 non-null  float64\n",
      " 6   Cost of Trip    359392 non-null  float64\n",
      "dtypes: float64(3), int64(2), object(2)\n",
      "memory usage: 19.2+ MB\n"
     ]
    },
    {
     "data": {
      "text/html": [
       "<div>\n",
       "<style scoped>\n",
       "    .dataframe tbody tr th:only-of-type {\n",
       "        vertical-align: middle;\n",
       "    }\n",
       "\n",
       "    .dataframe tbody tr th {\n",
       "        vertical-align: top;\n",
       "    }\n",
       "\n",
       "    .dataframe thead th {\n",
       "        text-align: right;\n",
       "    }\n",
       "</style>\n",
       "<table border=\"1\" class=\"dataframe\">\n",
       "  <thead>\n",
       "    <tr style=\"text-align: right;\">\n",
       "      <th></th>\n",
       "      <th>Transaction ID</th>\n",
       "      <th>Date of Travel</th>\n",
       "      <th>KM Travelled</th>\n",
       "      <th>Price Charged</th>\n",
       "      <th>Cost of Trip</th>\n",
       "    </tr>\n",
       "  </thead>\n",
       "  <tbody>\n",
       "    <tr>\n",
       "      <th>count</th>\n",
       "      <td>3.593920e+05</td>\n",
       "      <td>359392.000000</td>\n",
       "      <td>359392.000000</td>\n",
       "      <td>359392.000000</td>\n",
       "      <td>359392.000000</td>\n",
       "    </tr>\n",
       "    <tr>\n",
       "      <th>mean</th>\n",
       "      <td>1.022076e+07</td>\n",
       "      <td>42964.067998</td>\n",
       "      <td>22.567254</td>\n",
       "      <td>423.443311</td>\n",
       "      <td>286.190113</td>\n",
       "    </tr>\n",
       "    <tr>\n",
       "      <th>std</th>\n",
       "      <td>1.268058e+05</td>\n",
       "      <td>307.467197</td>\n",
       "      <td>12.233526</td>\n",
       "      <td>274.378911</td>\n",
       "      <td>157.993661</td>\n",
       "    </tr>\n",
       "    <tr>\n",
       "      <th>min</th>\n",
       "      <td>1.000001e+07</td>\n",
       "      <td>42371.000000</td>\n",
       "      <td>1.900000</td>\n",
       "      <td>15.600000</td>\n",
       "      <td>19.000000</td>\n",
       "    </tr>\n",
       "    <tr>\n",
       "      <th>25%</th>\n",
       "      <td>1.011081e+07</td>\n",
       "      <td>42697.000000</td>\n",
       "      <td>12.000000</td>\n",
       "      <td>206.437500</td>\n",
       "      <td>151.200000</td>\n",
       "    </tr>\n",
       "    <tr>\n",
       "      <th>50%</th>\n",
       "      <td>1.022104e+07</td>\n",
       "      <td>42988.000000</td>\n",
       "      <td>22.440000</td>\n",
       "      <td>386.360000</td>\n",
       "      <td>282.480000</td>\n",
       "    </tr>\n",
       "    <tr>\n",
       "      <th>75%</th>\n",
       "      <td>1.033094e+07</td>\n",
       "      <td>43232.000000</td>\n",
       "      <td>32.960000</td>\n",
       "      <td>583.660000</td>\n",
       "      <td>413.683200</td>\n",
       "    </tr>\n",
       "    <tr>\n",
       "      <th>max</th>\n",
       "      <td>1.044011e+07</td>\n",
       "      <td>43465.000000</td>\n",
       "      <td>48.000000</td>\n",
       "      <td>2048.030000</td>\n",
       "      <td>691.200000</td>\n",
       "    </tr>\n",
       "  </tbody>\n",
       "</table>\n",
       "</div>"
      ],
      "text/plain": [
       "       Transaction ID  Date of Travel   KM Travelled  Price Charged  \\\n",
       "count    3.593920e+05   359392.000000  359392.000000  359392.000000   \n",
       "mean     1.022076e+07    42964.067998      22.567254     423.443311   \n",
       "std      1.268058e+05      307.467197      12.233526     274.378911   \n",
       "min      1.000001e+07    42371.000000       1.900000      15.600000   \n",
       "25%      1.011081e+07    42697.000000      12.000000     206.437500   \n",
       "50%      1.022104e+07    42988.000000      22.440000     386.360000   \n",
       "75%      1.033094e+07    43232.000000      32.960000     583.660000   \n",
       "max      1.044011e+07    43465.000000      48.000000    2048.030000   \n",
       "\n",
       "        Cost of Trip  \n",
       "count  359392.000000  \n",
       "mean      286.190113  \n",
       "std       157.993661  \n",
       "min        19.000000  \n",
       "25%       151.200000  \n",
       "50%       282.480000  \n",
       "75%       413.683200  \n",
       "max       691.200000  "
      ]
     },
     "execution_count": 19,
     "metadata": {},
     "output_type": "execute_result"
    }
   ],
   "source": [
    "df_cab.info()\n",
    "df_cab.describe()"
   ]
  },
  {
   "cell_type": "code",
   "execution_count": 21,
   "id": "9db78c18",
   "metadata": {},
   "outputs": [
    {
     "name": "stdout",
     "output_type": "stream",
     "text": [
      "<class 'pandas.core.frame.DataFrame'>\n",
      "RangeIndex: 20 entries, 0 to 19\n",
      "Data columns (total 3 columns):\n",
      " #   Column      Non-Null Count  Dtype \n",
      "---  ------      --------------  ----- \n",
      " 0   City        20 non-null     object\n",
      " 1   Population  20 non-null     object\n",
      " 2   Users       20 non-null     object\n",
      "dtypes: object(3)\n",
      "memory usage: 608.0+ bytes\n"
     ]
    },
    {
     "data": {
      "text/html": [
       "<div>\n",
       "<style scoped>\n",
       "    .dataframe tbody tr th:only-of-type {\n",
       "        vertical-align: middle;\n",
       "    }\n",
       "\n",
       "    .dataframe tbody tr th {\n",
       "        vertical-align: top;\n",
       "    }\n",
       "\n",
       "    .dataframe thead th {\n",
       "        text-align: right;\n",
       "    }\n",
       "</style>\n",
       "<table border=\"1\" class=\"dataframe\">\n",
       "  <thead>\n",
       "    <tr style=\"text-align: right;\">\n",
       "      <th></th>\n",
       "      <th>City</th>\n",
       "      <th>Population</th>\n",
       "      <th>Users</th>\n",
       "    </tr>\n",
       "  </thead>\n",
       "  <tbody>\n",
       "    <tr>\n",
       "      <th>count</th>\n",
       "      <td>20</td>\n",
       "      <td>20</td>\n",
       "      <td>20</td>\n",
       "    </tr>\n",
       "    <tr>\n",
       "      <th>unique</th>\n",
       "      <td>20</td>\n",
       "      <td>20</td>\n",
       "      <td>20</td>\n",
       "    </tr>\n",
       "    <tr>\n",
       "      <th>top</th>\n",
       "      <td>NEW YORK NY</td>\n",
       "      <td>8,405,837</td>\n",
       "      <td>302,149</td>\n",
       "    </tr>\n",
       "    <tr>\n",
       "      <th>freq</th>\n",
       "      <td>1</td>\n",
       "      <td>1</td>\n",
       "      <td>1</td>\n",
       "    </tr>\n",
       "  </tbody>\n",
       "</table>\n",
       "</div>"
      ],
      "text/plain": [
       "               City   Population      Users\n",
       "count            20           20         20\n",
       "unique           20           20         20\n",
       "top     NEW YORK NY   8,405,837    302,149 \n",
       "freq              1            1          1"
      ]
     },
     "execution_count": 21,
     "metadata": {},
     "output_type": "execute_result"
    }
   ],
   "source": [
    "df_city.info()\n",
    "df_city.describe()"
   ]
  },
  {
   "cell_type": "code",
   "execution_count": 22,
   "id": "19dafe07",
   "metadata": {},
   "outputs": [
    {
     "name": "stdout",
     "output_type": "stream",
     "text": [
      "<class 'pandas.core.frame.DataFrame'>\n",
      "RangeIndex: 49171 entries, 0 to 49170\n",
      "Data columns (total 4 columns):\n",
      " #   Column              Non-Null Count  Dtype \n",
      "---  ------              --------------  ----- \n",
      " 0   Customer ID         49171 non-null  int64 \n",
      " 1   Gender              49171 non-null  object\n",
      " 2   Age                 49171 non-null  int64 \n",
      " 3   Income (USD/Month)  49171 non-null  int64 \n",
      "dtypes: int64(3), object(1)\n",
      "memory usage: 1.5+ MB\n"
     ]
    },
    {
     "data": {
      "text/html": [
       "<div>\n",
       "<style scoped>\n",
       "    .dataframe tbody tr th:only-of-type {\n",
       "        vertical-align: middle;\n",
       "    }\n",
       "\n",
       "    .dataframe tbody tr th {\n",
       "        vertical-align: top;\n",
       "    }\n",
       "\n",
       "    .dataframe thead th {\n",
       "        text-align: right;\n",
       "    }\n",
       "</style>\n",
       "<table border=\"1\" class=\"dataframe\">\n",
       "  <thead>\n",
       "    <tr style=\"text-align: right;\">\n",
       "      <th></th>\n",
       "      <th>Customer ID</th>\n",
       "      <th>Age</th>\n",
       "      <th>Income (USD/Month)</th>\n",
       "    </tr>\n",
       "  </thead>\n",
       "  <tbody>\n",
       "    <tr>\n",
       "      <th>count</th>\n",
       "      <td>49171.000000</td>\n",
       "      <td>49171.000000</td>\n",
       "      <td>49171.000000</td>\n",
       "    </tr>\n",
       "    <tr>\n",
       "      <th>mean</th>\n",
       "      <td>28398.252283</td>\n",
       "      <td>35.363121</td>\n",
       "      <td>15015.631856</td>\n",
       "    </tr>\n",
       "    <tr>\n",
       "      <th>std</th>\n",
       "      <td>17714.137333</td>\n",
       "      <td>12.599066</td>\n",
       "      <td>8002.208253</td>\n",
       "    </tr>\n",
       "    <tr>\n",
       "      <th>min</th>\n",
       "      <td>1.000000</td>\n",
       "      <td>18.000000</td>\n",
       "      <td>2000.000000</td>\n",
       "    </tr>\n",
       "    <tr>\n",
       "      <th>25%</th>\n",
       "      <td>12654.500000</td>\n",
       "      <td>25.000000</td>\n",
       "      <td>8289.500000</td>\n",
       "    </tr>\n",
       "    <tr>\n",
       "      <th>50%</th>\n",
       "      <td>27631.000000</td>\n",
       "      <td>33.000000</td>\n",
       "      <td>14656.000000</td>\n",
       "    </tr>\n",
       "    <tr>\n",
       "      <th>75%</th>\n",
       "      <td>43284.500000</td>\n",
       "      <td>42.000000</td>\n",
       "      <td>21035.000000</td>\n",
       "    </tr>\n",
       "    <tr>\n",
       "      <th>max</th>\n",
       "      <td>60000.000000</td>\n",
       "      <td>65.000000</td>\n",
       "      <td>35000.000000</td>\n",
       "    </tr>\n",
       "  </tbody>\n",
       "</table>\n",
       "</div>"
      ],
      "text/plain": [
       "        Customer ID           Age  Income (USD/Month)\n",
       "count  49171.000000  49171.000000        49171.000000\n",
       "mean   28398.252283     35.363121        15015.631856\n",
       "std    17714.137333     12.599066         8002.208253\n",
       "min        1.000000     18.000000         2000.000000\n",
       "25%    12654.500000     25.000000         8289.500000\n",
       "50%    27631.000000     33.000000        14656.000000\n",
       "75%    43284.500000     42.000000        21035.000000\n",
       "max    60000.000000     65.000000        35000.000000"
      ]
     },
     "execution_count": 22,
     "metadata": {},
     "output_type": "execute_result"
    }
   ],
   "source": [
    "df_customer.info()\n",
    "df_customer.describe()"
   ]
  },
  {
   "cell_type": "code",
   "execution_count": 23,
   "id": "92caa470",
   "metadata": {},
   "outputs": [
    {
     "name": "stdout",
     "output_type": "stream",
     "text": [
      "<class 'pandas.core.frame.DataFrame'>\n",
      "RangeIndex: 440098 entries, 0 to 440097\n",
      "Data columns (total 3 columns):\n",
      " #   Column          Non-Null Count   Dtype \n",
      "---  ------          --------------   ----- \n",
      " 0   Transaction ID  440098 non-null  int64 \n",
      " 1   Customer ID     440098 non-null  int64 \n",
      " 2   Payment_Mode    440098 non-null  object\n",
      "dtypes: int64(2), object(1)\n",
      "memory usage: 10.1+ MB\n"
     ]
    },
    {
     "data": {
      "text/html": [
       "<div>\n",
       "<style scoped>\n",
       "    .dataframe tbody tr th:only-of-type {\n",
       "        vertical-align: middle;\n",
       "    }\n",
       "\n",
       "    .dataframe tbody tr th {\n",
       "        vertical-align: top;\n",
       "    }\n",
       "\n",
       "    .dataframe thead th {\n",
       "        text-align: right;\n",
       "    }\n",
       "</style>\n",
       "<table border=\"1\" class=\"dataframe\">\n",
       "  <thead>\n",
       "    <tr style=\"text-align: right;\">\n",
       "      <th></th>\n",
       "      <th>Transaction ID</th>\n",
       "      <th>Customer ID</th>\n",
       "    </tr>\n",
       "  </thead>\n",
       "  <tbody>\n",
       "    <tr>\n",
       "      <th>count</th>\n",
       "      <td>4.400980e+05</td>\n",
       "      <td>440098.000000</td>\n",
       "    </tr>\n",
       "    <tr>\n",
       "      <th>mean</th>\n",
       "      <td>1.022006e+07</td>\n",
       "      <td>23619.513120</td>\n",
       "    </tr>\n",
       "    <tr>\n",
       "      <th>std</th>\n",
       "      <td>1.270455e+05</td>\n",
       "      <td>21195.549816</td>\n",
       "    </tr>\n",
       "    <tr>\n",
       "      <th>min</th>\n",
       "      <td>1.000001e+07</td>\n",
       "      <td>1.000000</td>\n",
       "    </tr>\n",
       "    <tr>\n",
       "      <th>25%</th>\n",
       "      <td>1.011004e+07</td>\n",
       "      <td>3530.000000</td>\n",
       "    </tr>\n",
       "    <tr>\n",
       "      <th>50%</th>\n",
       "      <td>1.022006e+07</td>\n",
       "      <td>15168.000000</td>\n",
       "    </tr>\n",
       "    <tr>\n",
       "      <th>75%</th>\n",
       "      <td>1.033008e+07</td>\n",
       "      <td>43884.000000</td>\n",
       "    </tr>\n",
       "    <tr>\n",
       "      <th>max</th>\n",
       "      <td>1.044011e+07</td>\n",
       "      <td>60000.000000</td>\n",
       "    </tr>\n",
       "  </tbody>\n",
       "</table>\n",
       "</div>"
      ],
      "text/plain": [
       "       Transaction ID    Customer ID\n",
       "count    4.400980e+05  440098.000000\n",
       "mean     1.022006e+07   23619.513120\n",
       "std      1.270455e+05   21195.549816\n",
       "min      1.000001e+07       1.000000\n",
       "25%      1.011004e+07    3530.000000\n",
       "50%      1.022006e+07   15168.000000\n",
       "75%      1.033008e+07   43884.000000\n",
       "max      1.044011e+07   60000.000000"
      ]
     },
     "execution_count": 23,
     "metadata": {},
     "output_type": "execute_result"
    }
   ],
   "source": [
    "df_transaction.info()\n",
    "df_transaction.describe()"
   ]
  },
  {
   "cell_type": "markdown",
   "id": "8c16e4ae",
   "metadata": {},
   "source": [
    "We could first link customer information with transaction information to understand each company's main customer groups. "
   ]
  },
  {
   "cell_type": "code",
   "execution_count": 24,
   "id": "ea73fbf4",
   "metadata": {},
   "outputs": [],
   "source": [
    "df_all = df_transaction.merge(df_customer, left_on = 'Customer ID', right_on = 'Customer ID')"
   ]
  },
  {
   "cell_type": "code",
   "execution_count": 26,
   "id": "9e061da6",
   "metadata": {},
   "outputs": [],
   "source": [
    "df_all = df_all.merge(df_cab, left_on = 'Transaction ID', right_on = 'Transaction ID')"
   ]
  },
  {
   "cell_type": "code",
   "execution_count": 28,
   "id": "38492f2f",
   "metadata": {},
   "outputs": [],
   "source": [
    "df_all['profit'] = df_all['Price Charged'] - df_all['Cost of Trip']"
   ]
  },
  {
   "cell_type": "code",
   "execution_count": 30,
   "id": "895aca5d",
   "metadata": {},
   "outputs": [
    {
     "data": {
      "text/html": [
       "<div>\n",
       "<style scoped>\n",
       "    .dataframe tbody tr th:only-of-type {\n",
       "        vertical-align: middle;\n",
       "    }\n",
       "\n",
       "    .dataframe tbody tr th {\n",
       "        vertical-align: top;\n",
       "    }\n",
       "\n",
       "    .dataframe thead th {\n",
       "        text-align: right;\n",
       "    }\n",
       "</style>\n",
       "<table border=\"1\" class=\"dataframe\">\n",
       "  <thead>\n",
       "    <tr style=\"text-align: right;\">\n",
       "      <th></th>\n",
       "      <th>Transaction ID</th>\n",
       "      <th>Customer ID</th>\n",
       "      <th>Payment_Mode</th>\n",
       "      <th>Gender</th>\n",
       "      <th>Age</th>\n",
       "      <th>Income (USD/Month)</th>\n",
       "      <th>Date of Travel</th>\n",
       "      <th>Company</th>\n",
       "      <th>City</th>\n",
       "      <th>KM Travelled</th>\n",
       "      <th>Price Charged</th>\n",
       "      <th>Cost of Trip</th>\n",
       "      <th>profit</th>\n",
       "    </tr>\n",
       "  </thead>\n",
       "  <tbody>\n",
       "    <tr>\n",
       "      <th>0</th>\n",
       "      <td>10000011</td>\n",
       "      <td>29290</td>\n",
       "      <td>Card</td>\n",
       "      <td>Male</td>\n",
       "      <td>28</td>\n",
       "      <td>10813</td>\n",
       "      <td>42377</td>\n",
       "      <td>Pink Cab</td>\n",
       "      <td>ATLANTA GA</td>\n",
       "      <td>30.45</td>\n",
       "      <td>370.95</td>\n",
       "      <td>313.6350</td>\n",
       "      <td>57.3150</td>\n",
       "    </tr>\n",
       "    <tr>\n",
       "      <th>1</th>\n",
       "      <td>10351127</td>\n",
       "      <td>29290</td>\n",
       "      <td>Cash</td>\n",
       "      <td>Male</td>\n",
       "      <td>28</td>\n",
       "      <td>10813</td>\n",
       "      <td>43302</td>\n",
       "      <td>Yellow Cab</td>\n",
       "      <td>ATLANTA GA</td>\n",
       "      <td>26.19</td>\n",
       "      <td>598.70</td>\n",
       "      <td>317.4228</td>\n",
       "      <td>281.2772</td>\n",
       "    </tr>\n",
       "    <tr>\n",
       "      <th>2</th>\n",
       "      <td>10412921</td>\n",
       "      <td>29290</td>\n",
       "      <td>Card</td>\n",
       "      <td>Male</td>\n",
       "      <td>28</td>\n",
       "      <td>10813</td>\n",
       "      <td>43427</td>\n",
       "      <td>Yellow Cab</td>\n",
       "      <td>ATLANTA GA</td>\n",
       "      <td>42.55</td>\n",
       "      <td>792.05</td>\n",
       "      <td>597.4020</td>\n",
       "      <td>194.6480</td>\n",
       "    </tr>\n",
       "    <tr>\n",
       "      <th>3</th>\n",
       "      <td>10000012</td>\n",
       "      <td>27703</td>\n",
       "      <td>Card</td>\n",
       "      <td>Male</td>\n",
       "      <td>27</td>\n",
       "      <td>9237</td>\n",
       "      <td>42375</td>\n",
       "      <td>Pink Cab</td>\n",
       "      <td>ATLANTA GA</td>\n",
       "      <td>28.62</td>\n",
       "      <td>358.52</td>\n",
       "      <td>334.8540</td>\n",
       "      <td>23.6660</td>\n",
       "    </tr>\n",
       "    <tr>\n",
       "      <th>4</th>\n",
       "      <td>10320494</td>\n",
       "      <td>27703</td>\n",
       "      <td>Card</td>\n",
       "      <td>Male</td>\n",
       "      <td>27</td>\n",
       "      <td>9237</td>\n",
       "      <td>43211</td>\n",
       "      <td>Yellow Cab</td>\n",
       "      <td>ATLANTA GA</td>\n",
       "      <td>36.38</td>\n",
       "      <td>721.10</td>\n",
       "      <td>467.1192</td>\n",
       "      <td>253.9808</td>\n",
       "    </tr>\n",
       "    <tr>\n",
       "      <th>...</th>\n",
       "      <td>...</td>\n",
       "      <td>...</td>\n",
       "      <td>...</td>\n",
       "      <td>...</td>\n",
       "      <td>...</td>\n",
       "      <td>...</td>\n",
       "      <td>...</td>\n",
       "      <td>...</td>\n",
       "      <td>...</td>\n",
       "      <td>...</td>\n",
       "      <td>...</td>\n",
       "      <td>...</td>\n",
       "      <td>...</td>\n",
       "    </tr>\n",
       "    <tr>\n",
       "      <th>359387</th>\n",
       "      <td>10439790</td>\n",
       "      <td>38520</td>\n",
       "      <td>Card</td>\n",
       "      <td>Female</td>\n",
       "      <td>42</td>\n",
       "      <td>19417</td>\n",
       "      <td>43107</td>\n",
       "      <td>Yellow Cab</td>\n",
       "      <td>SEATTLE WA</td>\n",
       "      <td>16.66</td>\n",
       "      <td>261.18</td>\n",
       "      <td>213.9144</td>\n",
       "      <td>47.2656</td>\n",
       "    </tr>\n",
       "    <tr>\n",
       "      <th>359388</th>\n",
       "      <td>10439799</td>\n",
       "      <td>12490</td>\n",
       "      <td>Cash</td>\n",
       "      <td>Male</td>\n",
       "      <td>33</td>\n",
       "      <td>18713</td>\n",
       "      <td>43103</td>\n",
       "      <td>Yellow Cab</td>\n",
       "      <td>SILICON VALLEY</td>\n",
       "      <td>13.72</td>\n",
       "      <td>277.97</td>\n",
       "      <td>172.8720</td>\n",
       "      <td>105.0980</td>\n",
       "    </tr>\n",
       "    <tr>\n",
       "      <th>359389</th>\n",
       "      <td>10439838</td>\n",
       "      <td>41414</td>\n",
       "      <td>Card</td>\n",
       "      <td>Male</td>\n",
       "      <td>38</td>\n",
       "      <td>3960</td>\n",
       "      <td>43104</td>\n",
       "      <td>Yellow Cab</td>\n",
       "      <td>TUCSON AZ</td>\n",
       "      <td>19.00</td>\n",
       "      <td>303.77</td>\n",
       "      <td>232.5600</td>\n",
       "      <td>71.2100</td>\n",
       "    </tr>\n",
       "    <tr>\n",
       "      <th>359390</th>\n",
       "      <td>10439840</td>\n",
       "      <td>41677</td>\n",
       "      <td>Cash</td>\n",
       "      <td>Male</td>\n",
       "      <td>23</td>\n",
       "      <td>19454</td>\n",
       "      <td>43106</td>\n",
       "      <td>Yellow Cab</td>\n",
       "      <td>TUCSON AZ</td>\n",
       "      <td>5.60</td>\n",
       "      <td>92.42</td>\n",
       "      <td>70.5600</td>\n",
       "      <td>21.8600</td>\n",
       "    </tr>\n",
       "    <tr>\n",
       "      <th>359391</th>\n",
       "      <td>10439846</td>\n",
       "      <td>39761</td>\n",
       "      <td>Card</td>\n",
       "      <td>Female</td>\n",
       "      <td>32</td>\n",
       "      <td>10128</td>\n",
       "      <td>43104</td>\n",
       "      <td>Yellow Cab</td>\n",
       "      <td>TUCSON AZ</td>\n",
       "      <td>13.30</td>\n",
       "      <td>244.65</td>\n",
       "      <td>180.3480</td>\n",
       "      <td>64.3020</td>\n",
       "    </tr>\n",
       "  </tbody>\n",
       "</table>\n",
       "<p>359392 rows × 13 columns</p>\n",
       "</div>"
      ],
      "text/plain": [
       "        Transaction ID  Customer ID Payment_Mode  Gender  Age  \\\n",
       "0             10000011        29290         Card    Male   28   \n",
       "1             10351127        29290         Cash    Male   28   \n",
       "2             10412921        29290         Card    Male   28   \n",
       "3             10000012        27703         Card    Male   27   \n",
       "4             10320494        27703         Card    Male   27   \n",
       "...                ...          ...          ...     ...  ...   \n",
       "359387        10439790        38520         Card  Female   42   \n",
       "359388        10439799        12490         Cash    Male   33   \n",
       "359389        10439838        41414         Card    Male   38   \n",
       "359390        10439840        41677         Cash    Male   23   \n",
       "359391        10439846        39761         Card  Female   32   \n",
       "\n",
       "        Income (USD/Month)  Date of Travel     Company            City  \\\n",
       "0                    10813           42377    Pink Cab      ATLANTA GA   \n",
       "1                    10813           43302  Yellow Cab      ATLANTA GA   \n",
       "2                    10813           43427  Yellow Cab      ATLANTA GA   \n",
       "3                     9237           42375    Pink Cab      ATLANTA GA   \n",
       "4                     9237           43211  Yellow Cab      ATLANTA GA   \n",
       "...                    ...             ...         ...             ...   \n",
       "359387               19417           43107  Yellow Cab      SEATTLE WA   \n",
       "359388               18713           43103  Yellow Cab  SILICON VALLEY   \n",
       "359389                3960           43104  Yellow Cab       TUCSON AZ   \n",
       "359390               19454           43106  Yellow Cab       TUCSON AZ   \n",
       "359391               10128           43104  Yellow Cab       TUCSON AZ   \n",
       "\n",
       "        KM Travelled  Price Charged  Cost of Trip    profit  \n",
       "0              30.45         370.95      313.6350   57.3150  \n",
       "1              26.19         598.70      317.4228  281.2772  \n",
       "2              42.55         792.05      597.4020  194.6480  \n",
       "3              28.62         358.52      334.8540   23.6660  \n",
       "4              36.38         721.10      467.1192  253.9808  \n",
       "...              ...            ...           ...       ...  \n",
       "359387         16.66         261.18      213.9144   47.2656  \n",
       "359388         13.72         277.97      172.8720  105.0980  \n",
       "359389         19.00         303.77      232.5600   71.2100  \n",
       "359390          5.60          92.42       70.5600   21.8600  \n",
       "359391         13.30         244.65      180.3480   64.3020  \n",
       "\n",
       "[359392 rows x 13 columns]"
      ]
     },
     "execution_count": 30,
     "metadata": {},
     "output_type": "execute_result"
    }
   ],
   "source": [
    "df_all"
   ]
  },
  {
   "cell_type": "markdown",
   "id": "d1d5946f",
   "metadata": {},
   "source": [
    "#### Hypothesis 1: customers riding with each company differ in their genders"
   ]
  },
  {
   "cell_type": "markdown",
   "id": "3421bd7f",
   "metadata": {},
   "source": [
    "The hypothesis can be tested with a Chi-square test as is shown below"
   ]
  },
  {
   "cell_type": "code",
   "execution_count": 37,
   "id": "c71fb74d",
   "metadata": {},
   "outputs": [],
   "source": [
    "from scipy.stats import chi2_contingency"
   ]
  },
  {
   "cell_type": "code",
   "execution_count": 38,
   "id": "f96f6ff6",
   "metadata": {},
   "outputs": [],
   "source": [
    "df_chi = df_all.groupby('Company').Gender.value_counts()"
   ]
  },
  {
   "cell_type": "code",
   "execution_count": 40,
   "id": "532cbe1e",
   "metadata": {},
   "outputs": [
    {
     "name": "stdout",
     "output_type": "stream",
     "text": [
      "p value is 1.0\n",
      "Independent (H0 holds true)\n"
     ]
    }
   ],
   "source": [
    "stat, p, dof, expected = chi2_contingency(df_chi)\n",
    "alpha = 0.05\n",
    "print(\"p value is \" + str(p))\n",
    "if p <= alpha:\n",
    "    print('Dependent (reject H0)')\n",
    "else:\n",
    "    print('Independent (H0 holds true)')"
   ]
  },
  {
   "cell_type": "markdown",
   "id": "94ed37f6",
   "metadata": {},
   "source": [
    "Here we cannot reject H0, so we cannot make the assumptions that gender will influence customers' decision when choosing the company to ride with. "
   ]
  },
  {
   "cell_type": "markdown",
   "id": "9164b1a2",
   "metadata": {},
   "source": [
    "#### Hypothesis 2: Two companies will attract customers in differen income group. "
   ]
  },
  {
   "cell_type": "code",
   "execution_count": 41,
   "id": "ebc3b863",
   "metadata": {},
   "outputs": [
    {
     "data": {
      "text/plain": [
       "<AxesSubplot:xlabel='Company', ylabel='Income (USD/Month)'>"
      ]
     },
     "execution_count": 41,
     "metadata": {},
     "output_type": "execute_result"
    },
    {
     "data": {
      "image/png": "[encoded data removed]",
      "text/plain": [
       "<Figure size 432x288 with 1 Axes>"
      ]
     },
     "metadata": {
      "needs_background": "light"
     },
     "output_type": "display_data"
    }
   ],
   "source": [
    "sns.boxplot(data = df_all, x = 'Company', y = 'Income (USD/Month)')"
   ]
  },
  {
   "cell_type": "code",
   "execution_count": 50,
   "id": "3ecda24b",
   "metadata": {},
   "outputs": [
    {
     "name": "stderr",
     "output_type": "stream",
     "text": [
      "C:\\Users\\Odele\\anaconda3\\lib\\site-packages\\seaborn\\distributions.py:2619: FutureWarning: `distplot` is a deprecated function and will be removed in a future version. Please adapt your code to use either `displot` (a figure-level function with similar flexibility) or `histplot` (an axes-level function for histograms).\n",
      "  warnings.warn(msg, FutureWarning)\n"
     ]
    },
    {
     "data": {
      "text/plain": [
       "<AxesSubplot:xlabel='Income (USD/Month)', ylabel='Density'>"
      ]
     },
     "execution_count": 50,
     "metadata": {},
     "output_type": "execute_result"
    },
    {
     "data": {
      "image/png": "[encoded data removed]",
      "text/plain": [
       "<Figure size 432x288 with 1 Axes>"
      ]
     },
     "metadata": {
      "needs_background": "light"
     },
     "output_type": "display_data"
    }
   ],
   "source": [
    "sns.distplot(df_all[df_all['Company'] == 'Pink Cab']['Income (USD/Month)'])"
   ]
  },
  {
   "cell_type": "code",
   "execution_count": 51,
   "id": "c214f0af",
   "metadata": {},
   "outputs": [
    {
     "name": "stderr",
     "output_type": "stream",
     "text": [
      "C:\\Users\\Odele\\anaconda3\\lib\\site-packages\\seaborn\\distributions.py:2619: FutureWarning: `distplot` is a deprecated function and will be removed in a future version. Please adapt your code to use either `displot` (a figure-level function with similar flexibility) or `histplot` (an axes-level function for histograms).\n",
      "  warnings.warn(msg, FutureWarning)\n"
     ]
    },
    {
     "data": {
      "text/plain": [
       "<AxesSubplot:xlabel='Income (USD/Month)', ylabel='Density'>"
      ]
     },
     "execution_count": 51,
     "metadata": {},
     "output_type": "execute_result"
    },
    {
     "data": {
      "image/png": "[encoded data removed]",
      "text/plain": [
       "<Figure size 432x288 with 1 Axes>"
      ]
     },
     "metadata": {
      "needs_background": "light"
     },
     "output_type": "display_data"
    }
   ],
   "source": [
    "sns.distplot(df_all[df_all['Company'] == 'Yellow Cab']['Income (USD/Month)'])"
   ]
  },
  {
   "cell_type": "markdown",
   "id": "cbf09dc4",
   "metadata": {},
   "source": [
    "We could also a t-test to examine if income is significantly different within two companies. But basically from the plots, we could tell income group may not be differnet for two companies"
   ]
  },
  {
   "cell_type": "markdown",
   "id": "9130c617",
   "metadata": {},
   "source": [
    "#### Hypothesis 3: Customers in different companies ride differnet distance, which will be reflected in price charged. The assumption here is that two companies charge customers in a similar way. "
   ]
  },
  {
   "cell_type": "code",
   "execution_count": 52,
   "id": "60943cc0",
   "metadata": {},
   "outputs": [
    {
     "data": {
      "text/plain": [
       "<AxesSubplot:xlabel='Company', ylabel='Price Charged'>"
      ]
     },
     "execution_count": 52,
     "metadata": {},
     "output_type": "execute_result"
    },
    {
     "data": {
      "image/png": "[encoded data removed]",
      "text/plain": [
       "<Figure size 432x288 with 1 Axes>"
      ]
     },
     "metadata": {
      "needs_background": "light"
     },
     "output_type": "display_data"
    }
   ],
   "source": [
    "sns.boxplot(data = df_all, x = 'Company', y = 'Price Charged')"
   ]
  },
  {
   "cell_type": "code",
   "execution_count": 53,
   "id": "5ebbcfef",
   "metadata": {},
   "outputs": [
    {
     "name": "stderr",
     "output_type": "stream",
     "text": [
      "C:\\Users\\Odele\\anaconda3\\lib\\site-packages\\seaborn\\distributions.py:2619: FutureWarning: `distplot` is a deprecated function and will be removed in a future version. Please adapt your code to use either `displot` (a figure-level function with similar flexibility) or `histplot` (an axes-level function for histograms).\n",
      "  warnings.warn(msg, FutureWarning)\n"
     ]
    },
    {
     "data": {
      "text/plain": [
       "<AxesSubplot:xlabel='Price Charged', ylabel='Density'>"
      ]
     },
     "execution_count": 53,
     "metadata": {},
     "output_type": "execute_result"
    },
    {
     "name": "stderr",
     "output_type": "stream",
     "text": [
      "C:\\Users\\Odele\\anaconda3\\lib\\site-packages\\seaborn\\distributions.py:2619: FutureWarning: `distplot` is a deprecated function and will be removed in a future version. Please adapt your code to use either `displot` (a figure-level function with similar flexibility) or `histplot` (an axes-level function for histograms).\n",
      "  warnings.warn(msg, FutureWarning)\n"
     ]
    },
    {
     "data": {
      "text/plain": [
       "<AxesSubplot:xlabel='Price Charged', ylabel='Density'>"
      ]
     },
     "execution_count": 53,
     "metadata": {},
     "output_type": "execute_result"
    },
    {
     "data": {
      "image/png": "[encoded data removed]",
      "text/plain": [
       "<Figure size 432x288 with 1 Axes>"
      ]
     },
     "metadata": {
      "needs_background": "light"
     },
     "output_type": "display_data"
    }
   ],
   "source": [
    "sns.distplot(df_all[df_all['Company'] == 'Pink Cab']['Price Charged'])\n",
    "sns.distplot(df_all[df_all['Company'] == 'Yellow Cab']['Price Charged'])"
   ]
  },
  {
   "cell_type": "markdown",
   "id": "6cf53a74",
   "metadata": {},
   "source": [
    "A t-test is worth conducting to see if the differnece is significant. But note that we have to make sure before doing that they are charging customers in a similar way (Or we adjust the charged price to make sure it refelct different distance customers ride)"
   ]
  },
  {
   "cell_type": "code",
   "execution_count": 54,
   "id": "24e2eaca",
   "metadata": {},
   "outputs": [],
   "source": [
    "import scipy.stats as stats"
   ]
  },
  {
   "cell_type": "code",
   "execution_count": 58,
   "id": "bbcf38ed",
   "metadata": {},
   "outputs": [
    {
     "data": {
      "text/plain": [
       "Ttest_indResult(statistic=-140.3722440435425, pvalue=0.0)"
      ]
     },
     "execution_count": 58,
     "metadata": {},
     "output_type": "execute_result"
    }
   ],
   "source": [
    "data_group_1 = df_all[df_all['Company'] == 'Pink Cab']['Price Charged']\n",
    "data_group_2 = df_all[df_all['Company'] == 'Yellow Cab']['Price Charged']\n",
    "stats.ttest_ind(a=data_group_1, b=data_group_2, equal_var=True, alternative = 'less')"
   ]
  },
  {
   "cell_type": "markdown",
   "id": "d66f7e28",
   "metadata": {},
   "source": [
    "The p-value is less than 0.5. Therefore we reject H0 and prove that customers riding with Yellow Cab are paying more(possibly riding a longer distance)"
   ]
  },
  {
   "cell_type": "markdown",
   "id": "3ea511dd",
   "metadata": {},
   "source": [
    "#### Hypothesis 4: Two companies have different exposure in areas."
   ]
  },
  {
   "cell_type": "code",
   "execution_count": 78,
   "id": "8f6e0b90",
   "metadata": {},
   "outputs": [],
   "source": [
    "df_citybreak = df_all.groupby(['Company','City']).size().to_frame('size').reset_index() ## reset_index() turns a groupby back into a dataframe so we could do more manipulation"
   ]
  },
  {
   "cell_type": "code",
   "execution_count": 79,
   "id": "a0966980",
   "metadata": {},
   "outputs": [
    {
     "data": {
      "text/html": [
       "<div>\n",
       "<style scoped>\n",
       "    .dataframe tbody tr th:only-of-type {\n",
       "        vertical-align: middle;\n",
       "    }\n",
       "\n",
       "    .dataframe tbody tr th {\n",
       "        vertical-align: top;\n",
       "    }\n",
       "\n",
       "    .dataframe thead th {\n",
       "        text-align: right;\n",
       "    }\n",
       "</style>\n",
       "<table border=\"1\" class=\"dataframe\">\n",
       "  <thead>\n",
       "    <tr style=\"text-align: right;\">\n",
       "      <th></th>\n",
       "      <th>Company</th>\n",
       "      <th>City</th>\n",
       "      <th>size</th>\n",
       "    </tr>\n",
       "  </thead>\n",
       "  <tbody>\n",
       "    <tr>\n",
       "      <th>0</th>\n",
       "      <td>Pink Cab</td>\n",
       "      <td>ATLANTA GA</td>\n",
       "      <td>1762</td>\n",
       "    </tr>\n",
       "    <tr>\n",
       "      <th>1</th>\n",
       "      <td>Pink Cab</td>\n",
       "      <td>AUSTIN TX</td>\n",
       "      <td>1868</td>\n",
       "    </tr>\n",
       "    <tr>\n",
       "      <th>2</th>\n",
       "      <td>Pink Cab</td>\n",
       "      <td>BOSTON MA</td>\n",
       "      <td>5186</td>\n",
       "    </tr>\n",
       "    <tr>\n",
       "      <th>3</th>\n",
       "      <td>Pink Cab</td>\n",
       "      <td>CHICAGO IL</td>\n",
       "      <td>9361</td>\n",
       "    </tr>\n",
       "    <tr>\n",
       "      <th>4</th>\n",
       "      <td>Pink Cab</td>\n",
       "      <td>DALLAS TX</td>\n",
       "      <td>1380</td>\n",
       "    </tr>\n",
       "    <tr>\n",
       "      <th>5</th>\n",
       "      <td>Pink Cab</td>\n",
       "      <td>DENVER CO</td>\n",
       "      <td>1394</td>\n",
       "    </tr>\n",
       "    <tr>\n",
       "      <th>6</th>\n",
       "      <td>Pink Cab</td>\n",
       "      <td>LOS ANGELES CA</td>\n",
       "      <td>19865</td>\n",
       "    </tr>\n",
       "    <tr>\n",
       "      <th>7</th>\n",
       "      <td>Pink Cab</td>\n",
       "      <td>MIAMI FL</td>\n",
       "      <td>2002</td>\n",
       "    </tr>\n",
       "    <tr>\n",
       "      <th>8</th>\n",
       "      <td>Pink Cab</td>\n",
       "      <td>NASHVILLE TN</td>\n",
       "      <td>1841</td>\n",
       "    </tr>\n",
       "    <tr>\n",
       "      <th>9</th>\n",
       "      <td>Pink Cab</td>\n",
       "      <td>NEW YORK NY</td>\n",
       "      <td>13967</td>\n",
       "    </tr>\n",
       "    <tr>\n",
       "      <th>10</th>\n",
       "      <td>Pink Cab</td>\n",
       "      <td>ORANGE COUNTY</td>\n",
       "      <td>1513</td>\n",
       "    </tr>\n",
       "    <tr>\n",
       "      <th>11</th>\n",
       "      <td>Pink Cab</td>\n",
       "      <td>PHOENIX AZ</td>\n",
       "      <td>864</td>\n",
       "    </tr>\n",
       "    <tr>\n",
       "      <th>12</th>\n",
       "      <td>Pink Cab</td>\n",
       "      <td>PITTSBURGH PA</td>\n",
       "      <td>682</td>\n",
       "    </tr>\n",
       "    <tr>\n",
       "      <th>13</th>\n",
       "      <td>Pink Cab</td>\n",
       "      <td>SACRAMENTO CA</td>\n",
       "      <td>1334</td>\n",
       "    </tr>\n",
       "    <tr>\n",
       "      <th>14</th>\n",
       "      <td>Pink Cab</td>\n",
       "      <td>SAN DIEGO CA</td>\n",
       "      <td>10672</td>\n",
       "    </tr>\n",
       "    <tr>\n",
       "      <th>15</th>\n",
       "      <td>Pink Cab</td>\n",
       "      <td>SEATTLE WA</td>\n",
       "      <td>2732</td>\n",
       "    </tr>\n",
       "    <tr>\n",
       "      <th>16</th>\n",
       "      <td>Pink Cab</td>\n",
       "      <td>SILICON VALLEY</td>\n",
       "      <td>3797</td>\n",
       "    </tr>\n",
       "    <tr>\n",
       "      <th>17</th>\n",
       "      <td>Pink Cab</td>\n",
       "      <td>TUCSON AZ</td>\n",
       "      <td>799</td>\n",
       "    </tr>\n",
       "    <tr>\n",
       "      <th>18</th>\n",
       "      <td>Pink Cab</td>\n",
       "      <td>WASHINGTON DC</td>\n",
       "      <td>3692</td>\n",
       "    </tr>\n",
       "    <tr>\n",
       "      <th>19</th>\n",
       "      <td>Yellow Cab</td>\n",
       "      <td>ATLANTA GA</td>\n",
       "      <td>5795</td>\n",
       "    </tr>\n",
       "    <tr>\n",
       "      <th>20</th>\n",
       "      <td>Yellow Cab</td>\n",
       "      <td>AUSTIN TX</td>\n",
       "      <td>3028</td>\n",
       "    </tr>\n",
       "    <tr>\n",
       "      <th>21</th>\n",
       "      <td>Yellow Cab</td>\n",
       "      <td>BOSTON MA</td>\n",
       "      <td>24506</td>\n",
       "    </tr>\n",
       "    <tr>\n",
       "      <th>22</th>\n",
       "      <td>Yellow Cab</td>\n",
       "      <td>CHICAGO IL</td>\n",
       "      <td>47264</td>\n",
       "    </tr>\n",
       "    <tr>\n",
       "      <th>23</th>\n",
       "      <td>Yellow Cab</td>\n",
       "      <td>DALLAS TX</td>\n",
       "      <td>5637</td>\n",
       "    </tr>\n",
       "    <tr>\n",
       "      <th>24</th>\n",
       "      <td>Yellow Cab</td>\n",
       "      <td>DENVER CO</td>\n",
       "      <td>2431</td>\n",
       "    </tr>\n",
       "    <tr>\n",
       "      <th>25</th>\n",
       "      <td>Yellow Cab</td>\n",
       "      <td>LOS ANGELES CA</td>\n",
       "      <td>28168</td>\n",
       "    </tr>\n",
       "    <tr>\n",
       "      <th>26</th>\n",
       "      <td>Yellow Cab</td>\n",
       "      <td>MIAMI FL</td>\n",
       "      <td>4452</td>\n",
       "    </tr>\n",
       "    <tr>\n",
       "      <th>27</th>\n",
       "      <td>Yellow Cab</td>\n",
       "      <td>NASHVILLE TN</td>\n",
       "      <td>1169</td>\n",
       "    </tr>\n",
       "    <tr>\n",
       "      <th>28</th>\n",
       "      <td>Yellow Cab</td>\n",
       "      <td>NEW YORK NY</td>\n",
       "      <td>85918</td>\n",
       "    </tr>\n",
       "    <tr>\n",
       "      <th>29</th>\n",
       "      <td>Yellow Cab</td>\n",
       "      <td>ORANGE COUNTY</td>\n",
       "      <td>2469</td>\n",
       "    </tr>\n",
       "    <tr>\n",
       "      <th>30</th>\n",
       "      <td>Yellow Cab</td>\n",
       "      <td>PHOENIX AZ</td>\n",
       "      <td>1200</td>\n",
       "    </tr>\n",
       "    <tr>\n",
       "      <th>31</th>\n",
       "      <td>Yellow Cab</td>\n",
       "      <td>PITTSBURGH PA</td>\n",
       "      <td>631</td>\n",
       "    </tr>\n",
       "    <tr>\n",
       "      <th>32</th>\n",
       "      <td>Yellow Cab</td>\n",
       "      <td>SACRAMENTO CA</td>\n",
       "      <td>1033</td>\n",
       "    </tr>\n",
       "    <tr>\n",
       "      <th>33</th>\n",
       "      <td>Yellow Cab</td>\n",
       "      <td>SAN DIEGO CA</td>\n",
       "      <td>9816</td>\n",
       "    </tr>\n",
       "    <tr>\n",
       "      <th>34</th>\n",
       "      <td>Yellow Cab</td>\n",
       "      <td>SEATTLE WA</td>\n",
       "      <td>5265</td>\n",
       "    </tr>\n",
       "    <tr>\n",
       "      <th>35</th>\n",
       "      <td>Yellow Cab</td>\n",
       "      <td>SILICON VALLEY</td>\n",
       "      <td>4722</td>\n",
       "    </tr>\n",
       "    <tr>\n",
       "      <th>36</th>\n",
       "      <td>Yellow Cab</td>\n",
       "      <td>TUCSON AZ</td>\n",
       "      <td>1132</td>\n",
       "    </tr>\n",
       "    <tr>\n",
       "      <th>37</th>\n",
       "      <td>Yellow Cab</td>\n",
       "      <td>WASHINGTON DC</td>\n",
       "      <td>40045</td>\n",
       "    </tr>\n",
       "  </tbody>\n",
       "</table>\n",
       "</div>"
      ],
      "text/plain": [
       "       Company            City   size\n",
       "0     Pink Cab      ATLANTA GA   1762\n",
       "1     Pink Cab       AUSTIN TX   1868\n",
       "2     Pink Cab       BOSTON MA   5186\n",
       "3     Pink Cab      CHICAGO IL   9361\n",
       "4     Pink Cab       DALLAS TX   1380\n",
       "5     Pink Cab       DENVER CO   1394\n",
       "6     Pink Cab  LOS ANGELES CA  19865\n",
       "7     Pink Cab        MIAMI FL   2002\n",
       "8     Pink Cab    NASHVILLE TN   1841\n",
       "9     Pink Cab     NEW YORK NY  13967\n",
       "10    Pink Cab   ORANGE COUNTY   1513\n",
       "11    Pink Cab      PHOENIX AZ    864\n",
       "12    Pink Cab   PITTSBURGH PA    682\n",
       "13    Pink Cab   SACRAMENTO CA   1334\n",
       "14    Pink Cab    SAN DIEGO CA  10672\n",
       "15    Pink Cab      SEATTLE WA   2732\n",
       "16    Pink Cab  SILICON VALLEY   3797\n",
       "17    Pink Cab       TUCSON AZ    799\n",
       "18    Pink Cab   WASHINGTON DC   3692\n",
       "19  Yellow Cab      ATLANTA GA   5795\n",
       "20  Yellow Cab       AUSTIN TX   3028\n",
       "21  Yellow Cab       BOSTON MA  24506\n",
       "22  Yellow Cab      CHICAGO IL  47264\n",
       "23  Yellow Cab       DALLAS TX   5637\n",
       "24  Yellow Cab       DENVER CO   2431\n",
       "25  Yellow Cab  LOS ANGELES CA  28168\n",
       "26  Yellow Cab        MIAMI FL   4452\n",
       "27  Yellow Cab    NASHVILLE TN   1169\n",
       "28  Yellow Cab     NEW YORK NY  85918\n",
       "29  Yellow Cab   ORANGE COUNTY   2469\n",
       "30  Yellow Cab      PHOENIX AZ   1200\n",
       "31  Yellow Cab   PITTSBURGH PA    631\n",
       "32  Yellow Cab   SACRAMENTO CA   1033\n",
       "33  Yellow Cab    SAN DIEGO CA   9816\n",
       "34  Yellow Cab      SEATTLE WA   5265\n",
       "35  Yellow Cab  SILICON VALLEY   4722\n",
       "36  Yellow Cab       TUCSON AZ   1132\n",
       "37  Yellow Cab   WASHINGTON DC  40045"
      ]
     },
     "execution_count": 79,
     "metadata": {},
     "output_type": "execute_result"
    }
   ],
   "source": [
    "df_citybreak"
   ]
  },
  {
   "cell_type": "code",
   "execution_count": 80,
   "id": "aa69968d",
   "metadata": {},
   "outputs": [],
   "source": [
    "df_exposure = pd.pivot_table(df_citybreak, values = 'size' , index = 'City', columns = 'Company')"
   ]
  },
  {
   "cell_type": "code",
   "execution_count": 82,
   "id": "68c90532",
   "metadata": {},
   "outputs": [],
   "source": [
    "df_exposure.loc['Total',:]= df_exposure.sum(axis=0)"
   ]
  },
  {
   "cell_type": "code",
   "execution_count": 84,
   "id": "7306647b",
   "metadata": {},
   "outputs": [],
   "source": [
    "df_exposure['Ratio'] = df_exposure['Pink Cab']/df_exposure['Yellow Cab']"
   ]
  },
  {
   "cell_type": "code",
   "execution_count": 88,
   "id": "0c6f93e1",
   "metadata": {},
   "outputs": [
    {
     "data": {
      "text/html": [
       "<div>\n",
       "<style scoped>\n",
       "    .dataframe tbody tr th:only-of-type {\n",
       "        vertical-align: middle;\n",
       "    }\n",
       "\n",
       "    .dataframe tbody tr th {\n",
       "        vertical-align: top;\n",
       "    }\n",
       "\n",
       "    .dataframe thead th {\n",
       "        text-align: right;\n",
       "    }\n",
       "</style>\n",
       "<table border=\"1\" class=\"dataframe\">\n",
       "  <thead>\n",
       "    <tr style=\"text-align: right;\">\n",
       "      <th>Company</th>\n",
       "      <th>Pink Cab</th>\n",
       "      <th>Yellow Cab</th>\n",
       "      <th>Ratio</th>\n",
       "    </tr>\n",
       "    <tr>\n",
       "      <th>City</th>\n",
       "      <th></th>\n",
       "      <th></th>\n",
       "      <th></th>\n",
       "    </tr>\n",
       "  </thead>\n",
       "  <tbody>\n",
       "    <tr>\n",
       "      <th>NASHVILLE TN</th>\n",
       "      <td>1841.0</td>\n",
       "      <td>1169.0</td>\n",
       "      <td>1.574850</td>\n",
       "    </tr>\n",
       "    <tr>\n",
       "      <th>SACRAMENTO CA</th>\n",
       "      <td>1334.0</td>\n",
       "      <td>1033.0</td>\n",
       "      <td>1.291384</td>\n",
       "    </tr>\n",
       "    <tr>\n",
       "      <th>SAN DIEGO CA</th>\n",
       "      <td>10672.0</td>\n",
       "      <td>9816.0</td>\n",
       "      <td>1.087205</td>\n",
       "    </tr>\n",
       "    <tr>\n",
       "      <th>PITTSBURGH PA</th>\n",
       "      <td>682.0</td>\n",
       "      <td>631.0</td>\n",
       "      <td>1.080824</td>\n",
       "    </tr>\n",
       "    <tr>\n",
       "      <th>SILICON VALLEY</th>\n",
       "      <td>3797.0</td>\n",
       "      <td>4722.0</td>\n",
       "      <td>0.804108</td>\n",
       "    </tr>\n",
       "    <tr>\n",
       "      <th>PHOENIX AZ</th>\n",
       "      <td>864.0</td>\n",
       "      <td>1200.0</td>\n",
       "      <td>0.720000</td>\n",
       "    </tr>\n",
       "    <tr>\n",
       "      <th>TUCSON AZ</th>\n",
       "      <td>799.0</td>\n",
       "      <td>1132.0</td>\n",
       "      <td>0.705830</td>\n",
       "    </tr>\n",
       "    <tr>\n",
       "      <th>LOS ANGELES CA</th>\n",
       "      <td>19865.0</td>\n",
       "      <td>28168.0</td>\n",
       "      <td>0.705233</td>\n",
       "    </tr>\n",
       "    <tr>\n",
       "      <th>AUSTIN TX</th>\n",
       "      <td>1868.0</td>\n",
       "      <td>3028.0</td>\n",
       "      <td>0.616909</td>\n",
       "    </tr>\n",
       "    <tr>\n",
       "      <th>ORANGE COUNTY</th>\n",
       "      <td>1513.0</td>\n",
       "      <td>2469.0</td>\n",
       "      <td>0.612799</td>\n",
       "    </tr>\n",
       "    <tr>\n",
       "      <th>DENVER CO</th>\n",
       "      <td>1394.0</td>\n",
       "      <td>2431.0</td>\n",
       "      <td>0.573427</td>\n",
       "    </tr>\n",
       "    <tr>\n",
       "      <th>SEATTLE WA</th>\n",
       "      <td>2732.0</td>\n",
       "      <td>5265.0</td>\n",
       "      <td>0.518898</td>\n",
       "    </tr>\n",
       "    <tr>\n",
       "      <th>MIAMI FL</th>\n",
       "      <td>2002.0</td>\n",
       "      <td>4452.0</td>\n",
       "      <td>0.449686</td>\n",
       "    </tr>\n",
       "    <tr>\n",
       "      <th>Total</th>\n",
       "      <td>84711.0</td>\n",
       "      <td>274681.0</td>\n",
       "      <td>0.308398</td>\n",
       "    </tr>\n",
       "    <tr>\n",
       "      <th>ATLANTA GA</th>\n",
       "      <td>1762.0</td>\n",
       "      <td>5795.0</td>\n",
       "      <td>0.304055</td>\n",
       "    </tr>\n",
       "    <tr>\n",
       "      <th>DALLAS TX</th>\n",
       "      <td>1380.0</td>\n",
       "      <td>5637.0</td>\n",
       "      <td>0.244811</td>\n",
       "    </tr>\n",
       "    <tr>\n",
       "      <th>BOSTON MA</th>\n",
       "      <td>5186.0</td>\n",
       "      <td>24506.0</td>\n",
       "      <td>0.211622</td>\n",
       "    </tr>\n",
       "    <tr>\n",
       "      <th>CHICAGO IL</th>\n",
       "      <td>9361.0</td>\n",
       "      <td>47264.0</td>\n",
       "      <td>0.198058</td>\n",
       "    </tr>\n",
       "    <tr>\n",
       "      <th>NEW YORK NY</th>\n",
       "      <td>13967.0</td>\n",
       "      <td>85918.0</td>\n",
       "      <td>0.162562</td>\n",
       "    </tr>\n",
       "    <tr>\n",
       "      <th>WASHINGTON DC</th>\n",
       "      <td>3692.0</td>\n",
       "      <td>40045.0</td>\n",
       "      <td>0.092196</td>\n",
       "    </tr>\n",
       "  </tbody>\n",
       "</table>\n",
       "</div>"
      ],
      "text/plain": [
       "Company         Pink Cab  Yellow Cab     Ratio\n",
       "City                                          \n",
       "NASHVILLE TN      1841.0      1169.0  1.574850\n",
       "SACRAMENTO CA     1334.0      1033.0  1.291384\n",
       "SAN DIEGO CA     10672.0      9816.0  1.087205\n",
       "PITTSBURGH PA      682.0       631.0  1.080824\n",
       "SILICON VALLEY    3797.0      4722.0  0.804108\n",
       "PHOENIX AZ         864.0      1200.0  0.720000\n",
       "TUCSON AZ          799.0      1132.0  0.705830\n",
       "LOS ANGELES CA   19865.0     28168.0  0.705233\n",
       "AUSTIN TX         1868.0      3028.0  0.616909\n",
       "ORANGE COUNTY     1513.0      2469.0  0.612799\n",
       "DENVER CO         1394.0      2431.0  0.573427\n",
       "SEATTLE WA        2732.0      5265.0  0.518898\n",
       "MIAMI FL          2002.0      4452.0  0.449686\n",
       "Total            84711.0    274681.0  0.308398\n",
       "ATLANTA GA        1762.0      5795.0  0.304055\n",
       "DALLAS TX         1380.0      5637.0  0.244811\n",
       "BOSTON MA         5186.0     24506.0  0.211622\n",
       "CHICAGO IL        9361.0     47264.0  0.198058\n",
       "NEW YORK NY      13967.0     85918.0  0.162562\n",
       "WASHINGTON DC     3692.0     40045.0  0.092196"
      ]
     },
     "execution_count": 88,
     "metadata": {},
     "output_type": "execute_result"
    }
   ],
   "source": [
    "df_exposure.sort_values(by = 'Ratio',ascending = False)"
   ]
  },
  {
   "cell_type": "markdown",
   "id": "993acb21",
   "metadata": {},
   "source": [
    "Cities above Total row are cities where Pink cab has better exposure than Yellow Cab given their primary difference in total transactions. Therefore, Pink Cab has quite large potential in San Diego while Yellow Can has better exposure in New York. "
   ]
  },
  {
   "cell_type": "markdown",
   "id": "5766d807",
   "metadata": {},
   "source": [
    "#### Hypothesis 5: Two companies differ in profits made"
   ]
  },
  {
   "cell_type": "code",
   "execution_count": 90,
   "id": "3c6c8289",
   "metadata": {},
   "outputs": [
    {
     "data": {
      "text/plain": [
       "<AxesSubplot:xlabel='Company', ylabel='profit'>"
      ]
     },
     "execution_count": 90,
     "metadata": {},
     "output_type": "execute_result"
    },
    {
     "data": {
      "image/png": "[encoded data removed]",
      "text/plain": [
       "<Figure size 432x288 with 1 Axes>"
      ]
     },
     "metadata": {
      "needs_background": "light"
     },
     "output_type": "display_data"
    }
   ],
   "source": [
    "sns.boxplot(data = df_all, x = 'Company', y = 'profit')"
   ]
  },
  {
   "cell_type": "code",
   "execution_count": 91,
   "id": "9b1d1634",
   "metadata": {},
   "outputs": [
    {
     "data": {
      "text/plain": [
       "Ttest_indResult(statistic=-160.37151759478056, pvalue=0.0)"
      ]
     },
     "execution_count": 91,
     "metadata": {},
     "output_type": "execute_result"
    }
   ],
   "source": [
    "data_group_1 = df_all[df_all['Company'] == 'Pink Cab']['profit']\n",
    "data_group_2 = df_all[df_all['Company'] == 'Yellow Cab']['profit']\n",
    "stats.ttest_ind(a=data_group_1, b=data_group_2, equal_var=True, alternative = 'less')"
   ]
  },
  {
   "cell_type": "markdown",
   "id": "9e67c0b8",
   "metadata": {},
   "source": [
    "The plots and test show us that Yellow Cab is making more profit than Pink Cab"
   ]
  }
 ],
 "metadata": {
  "kernelspec": {
   "display_name": "Python 3 (ipykernel)",
   "language": "python",
   "name": "python3"
  },
  "language_info": {
   "codemirror_mode": {
    "name": "ipython",
    "version": 3
   },
   "file_extension": ".py",
   "mimetype": "text/x-python",
   "name": "python",
   "nbconvert_exporter": "python",
   "pygments_lexer": "ipython3",
   "version": "3.9.7"
  }
 },
 "nbformat": 4,
 "nbformat_minor": 5
}
